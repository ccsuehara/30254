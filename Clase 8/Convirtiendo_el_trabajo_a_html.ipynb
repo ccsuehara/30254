{
  "nbformat": 4,
  "nbformat_minor": 0,
  "metadata": {
    "colab": {
      "name": "Convirtiendo el trabajo a html.ipynb",
      "provenance": [],
      "authorship_tag": "ABX9TyM+RW3IWMK3y+a4OV4FhMvA",
      "include_colab_link": true
    },
    "kernelspec": {
      "name": "python3",
      "display_name": "Python 3"
    },
    "language_info": {
      "name": "python"
    }
  },
  "cells": [
    {
      "cell_type": "markdown",
      "metadata": {
        "id": "view-in-github",
        "colab_type": "text"
      },
      "source": [
        "<a href=\"https://colab.research.google.com/github/ccsuehara/30254/blob/master/Clase%208/Convirtiendo_el_trabajo_a_html.ipynb\" target=\"_parent\"><img src=\"https://colab.research.google.com/assets/colab-badge.svg\" alt=\"Open In Colab\"/></a>"
      ]
    },
    {
      "cell_type": "code",
      "execution_count": 1,
      "metadata": {
        "colab": {
          "base_uri": "https://localhost:8080/"
        },
        "id": "bkkhv749_qJa",
        "outputId": "a15adb1f-6b19-42c6-e61f-0a3c223be904"
      },
      "outputs": [
        {
          "output_type": "stream",
          "name": "stdout",
          "text": [
            "[NbConvertApp] Converting notebook /content/Altair_2.ipynb to html\n",
            "[NbConvertApp] Writing 302832 bytes to /content/Altair_2.html\n"
          ]
        },
        {
          "output_type": "execute_result",
          "data": {
            "text/plain": [
              ""
            ]
          },
          "metadata": {},
          "execution_count": 1
        }
      ],
      "source": [
        "# referencia de stack overflow: https://stackoverflow.com/questions/53460051/convert-ipynb-notebook-to-html-in-google-colab\n",
        "%%shell\n",
        "jupyter nbconvert --to html /content/Altair_2.ipynb"
      ]
    },
    {
      "cell_type": "code",
      "source": [
        "index.html"
      ],
      "metadata": {
        "id": "ayUDrRqb_u2a"
      },
      "execution_count": null,
      "outputs": []
    }
  ]
}